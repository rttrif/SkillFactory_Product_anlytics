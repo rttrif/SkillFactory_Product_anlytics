{
 "cells": [
  {
   "cell_type": "code",
   "execution_count": 2,
   "metadata": {
    "collapsed": true
   },
   "outputs": [],
   "source": [
    "import pandas as pd\n",
    "import requests\n",
    "from tqdm import tqdm_notebook"
   ]
  },
  {
   "cell_type": "code",
   "execution_count": 3,
   "outputs": [
    {
     "name": "stderr",
     "output_type": "stream",
     "text": [
      "/var/folders/c9/dmg044v1297crzr51490bbj40000gn/T/ipykernel_18015/3086884276.py:4: TqdmDeprecationWarning: This function will be removed in tqdm==5.0.0\n",
      "Please use `tqdm.notebook.tqdm` instead of `tqdm.tqdm_notebook`\n",
      "  for page_number in tqdm_notebook(range(50)):\n"
     ]
    },
    {
     "data": {
      "text/plain": "  0%|          | 0/50 [00:00<?, ?it/s]",
      "application/vnd.jupyter.widget-view+json": {
       "version_major": 2,
       "version_minor": 0,
       "model_id": "c822693edbd14f59ad66d3798f7bf3a0"
      }
     },
     "metadata": {},
     "output_type": "display_data"
    }
   ],
   "source": [
    "vacancies = []\n",
    "vacancy_query = \"data scientist\"\n",
    "\n",
    "for page_number in tqdm_notebook(range(50)):\n",
    "    try:\n",
    "        response = requests.get(\"https://api.hh.ru/vacancies\",\n",
    "                                params={\n",
    "                                    \"text\": vacancy_query,\n",
    "                                    \"page\": page_number}\n",
    "                                )\n",
    "        json_response = response.json()\n",
    "\n",
    "        vacancies += json_response[\"items\"]\n",
    "    except Exception as ex:\n",
    "        print(ex)\n",
    "\n",
    "vacancies_dataset = {\n",
    "    \"vacancy_name\": [],\n",
    "    \"employer_name\": [],\n",
    "    \"city\": [],\n",
    "    \"salary\": []\n",
    "}"
   ],
   "metadata": {
    "collapsed": false,
    "pycharm": {
     "name": "#%%\n"
    }
   }
  },
  {
   "cell_type": "code",
   "execution_count": 4,
   "outputs": [],
   "source": [
    "for vacancy in vacancies:\n",
    "    vacancies_dataset[\"vacancy_name\"].append(vacancy[\"name\"])\n",
    "    vacancies_dataset[\"employer_name\"].append(vacancy[\"employer\"][\"name\"])\n",
    "\n",
    "    try:\n",
    "        vacancies_dataset[\"city\"].append(vacancy.get(\"address\", {}).get(\"city\", \"no city\"))\n",
    "    except:\n",
    "        vacancies_dataset[\"city\"].append(\"no city\")\n",
    "\n",
    "    salary_from = None\n",
    "    salary_to = None\n",
    "    salary_currency = None\n",
    "\n",
    "    try:\n",
    "        salary_from = vacancy.get('salary', {}).get('from', None)\n",
    "    except:\n",
    "        pass\n",
    "\n",
    "    try:\n",
    "        salary_to = vacancy.get('salary', {}).get('to', None)\n",
    "    except:\n",
    "        pass\n",
    "\n",
    "    try:\n",
    "        salary_currency = vacancy.get('salary', {}).get('currency', None)\n",
    "    except:\n",
    "        pass\n",
    "\n",
    "    if salary_currency != 'RUR' or (salary_from is None and salary_to is None):\n",
    "        vacancies_dataset[\"salary\"].append(None)\n",
    "    elif salary_from is not None and salary_to is not None:\n",
    "        vacancies_dataset[\"salary\"].append((salary_from + salary_to) / 2.0)\n",
    "    elif salary_from is not None:\n",
    "        vacancies_dataset[\"salary\"].append(salary_from)\n",
    "    elif salary_to is not None:\n",
    "        vacancies_dataset[\"salary\"].append(salary_to)"
   ],
   "metadata": {
    "collapsed": false,
    "pycharm": {
     "name": "#%%\n"
    }
   }
  },
  {
   "cell_type": "code",
   "execution_count": 5,
   "outputs": [],
   "source": [
    "vacancies_dataset = pd.DataFrame(vacancies_dataset)"
   ],
   "metadata": {
    "collapsed": false,
    "pycharm": {
     "name": "#%%\n"
    }
   }
  },
  {
   "cell_type": "code",
   "execution_count": 6,
   "outputs": [
    {
     "data": {
      "text/plain": "                                          vacancy_name  \\\n0                              Data Scientist (Middle)   \n1    Специалист Computer Vision (Middle Data Scient...   \n2                     Аналитик данных / Data scientist   \n3             Data Scientist / Аналитик больших данных   \n4                                       Data Scientist   \n..                                                 ...   \n761        Business/System Administrator / L2 Engineer   \n762        Business/System Administrator / L2 Engineer   \n763        Business/System Administrator / L2 Engineer   \n764                        Marketing Operation Officer   \n765                        Marketing Operation Officer   \n\n                    employer_name             city    salary  \n0                    Леруа Мерлен          no city  265000.0  \n1    Медицинские Скрининг Системы  Санкт-Петербург  200000.0  \n2                      MNOGOGAMES           Рязань  155000.0  \n3                    Бейстрек Рус           Москва  175000.0  \n4                 Метр Квадратный          no city  250000.0  \n..                            ...              ...       ...  \n761                      OneForce          no city   60000.0  \n762                      OneForce          no city   60000.0  \n763                      OneForce          no city   60000.0  \n764                 Kikimora Labs          no city       NaN  \n765                 Kikimora Labs          no city       NaN  \n\n[766 rows x 4 columns]",
      "text/html": "<div>\n<style scoped>\n    .dataframe tbody tr th:only-of-type {\n        vertical-align: middle;\n    }\n\n    .dataframe tbody tr th {\n        vertical-align: top;\n    }\n\n    .dataframe thead th {\n        text-align: right;\n    }\n</style>\n<table border=\"1\" class=\"dataframe\">\n  <thead>\n    <tr style=\"text-align: right;\">\n      <th></th>\n      <th>vacancy_name</th>\n      <th>employer_name</th>\n      <th>city</th>\n      <th>salary</th>\n    </tr>\n  </thead>\n  <tbody>\n    <tr>\n      <th>0</th>\n      <td>Data Scientist (Middle)</td>\n      <td>Леруа Мерлен</td>\n      <td>no city</td>\n      <td>265000.0</td>\n    </tr>\n    <tr>\n      <th>1</th>\n      <td>Специалист Computer Vision (Middle Data Scient...</td>\n      <td>Медицинские Скрининг Системы</td>\n      <td>Санкт-Петербург</td>\n      <td>200000.0</td>\n    </tr>\n    <tr>\n      <th>2</th>\n      <td>Аналитик данных / Data scientist</td>\n      <td>MNOGOGAMES</td>\n      <td>Рязань</td>\n      <td>155000.0</td>\n    </tr>\n    <tr>\n      <th>3</th>\n      <td>Data Scientist / Аналитик больших данных</td>\n      <td>Бейстрек Рус</td>\n      <td>Москва</td>\n      <td>175000.0</td>\n    </tr>\n    <tr>\n      <th>4</th>\n      <td>Data Scientist</td>\n      <td>Метр Квадратный</td>\n      <td>no city</td>\n      <td>250000.0</td>\n    </tr>\n    <tr>\n      <th>...</th>\n      <td>...</td>\n      <td>...</td>\n      <td>...</td>\n      <td>...</td>\n    </tr>\n    <tr>\n      <th>761</th>\n      <td>Business/System Administrator / L2 Engineer</td>\n      <td>OneForce</td>\n      <td>no city</td>\n      <td>60000.0</td>\n    </tr>\n    <tr>\n      <th>762</th>\n      <td>Business/System Administrator / L2 Engineer</td>\n      <td>OneForce</td>\n      <td>no city</td>\n      <td>60000.0</td>\n    </tr>\n    <tr>\n      <th>763</th>\n      <td>Business/System Administrator / L2 Engineer</td>\n      <td>OneForce</td>\n      <td>no city</td>\n      <td>60000.0</td>\n    </tr>\n    <tr>\n      <th>764</th>\n      <td>Marketing Operation Officer</td>\n      <td>Kikimora Labs</td>\n      <td>no city</td>\n      <td>NaN</td>\n    </tr>\n    <tr>\n      <th>765</th>\n      <td>Marketing Operation Officer</td>\n      <td>Kikimora Labs</td>\n      <td>no city</td>\n      <td>NaN</td>\n    </tr>\n  </tbody>\n</table>\n<p>766 rows × 4 columns</p>\n</div>"
     },
     "execution_count": 6,
     "metadata": {},
     "output_type": "execute_result"
    }
   ],
   "source": [
    "vacancies_dataset"
   ],
   "metadata": {
    "collapsed": false,
    "pycharm": {
     "name": "#%%\n"
    }
   }
  },
  {
   "cell_type": "code",
   "execution_count": 7,
   "outputs": [
    {
     "data": {
      "text/plain": "200328.525"
     },
     "execution_count": 7,
     "metadata": {},
     "output_type": "execute_result"
    }
   ],
   "source": [
    "vacancies_dataset['salary'].mean()"
   ],
   "metadata": {
    "collapsed": false,
    "pycharm": {
     "name": "#%%\n"
    }
   }
  },
  {
   "cell_type": "markdown",
   "source": [],
   "metadata": {
    "collapsed": false
   }
  },
  {
   "cell_type": "code",
   "execution_count": 20,
   "outputs": [
    {
     "name": "stdout",
     "output_type": "stream",
     "text": [
      "0.5522193211488251\n"
     ]
    }
   ],
   "source": [
    "moscow_counter = 0\n",
    "\n",
    "for vacancy in vacancies:\n",
    "    try:\n",
    "        city = vacancy.get(\"area\").get(\"name\")\n",
    "\n",
    "        if city == 'Москва':\n",
    "            moscow_counter += 1\n",
    "    except:\n",
    "        pass\n",
    "\n",
    "print(moscow_counter / len(vacancies))"
   ],
   "metadata": {
    "collapsed": false,
    "pycharm": {
     "name": "#%%\n"
    }
   }
  },
  {
   "cell_type": "code",
   "execution_count": null,
   "outputs": [],
   "source": [],
   "metadata": {
    "collapsed": false,
    "pycharm": {
     "name": "#%%\n"
    }
   }
  }
 ],
 "metadata": {
  "kernelspec": {
   "display_name": "Python 3",
   "language": "python",
   "name": "python3"
  },
  "language_info": {
   "codemirror_mode": {
    "name": "ipython",
    "version": 2
   },
   "file_extension": ".py",
   "mimetype": "text/x-python",
   "name": "python",
   "nbconvert_exporter": "python",
   "pygments_lexer": "ipython2",
   "version": "2.7.6"
  }
 },
 "nbformat": 4,
 "nbformat_minor": 0
}