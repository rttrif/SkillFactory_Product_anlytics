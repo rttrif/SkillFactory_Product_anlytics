{
 "cells": [
  {
   "cell_type": "code",
   "execution_count": 3,
   "metadata": {
    "collapsed": true
   },
   "outputs": [],
   "source": [
    "import pandas as pd\n",
    "import requests\n",
    "from tqdm import tqdm\n",
    "from collections import Counter\n",
    "import random"
   ]
  },
  {
   "cell_type": "code",
   "execution_count": 4,
   "outputs": [
    {
     "name": "stderr",
     "output_type": "stream",
     "text": [
      "100%|██████████| 100/100 [00:59<00:00,  1.68it/s]\n"
     ]
    }
   ],
   "source": [
    "vacancies = []\n",
    "vacancy_query = \"product analyst\"\n",
    "\n",
    "for page_number in tqdm(range(100)):\n",
    "    try:\n",
    "        response = requests.get(\"https://api.hh.ru/vacancies\",\n",
    "                                params={\n",
    "                                    \"text\": vacancy_query,\n",
    "                                    \"page\": page_number}\n",
    "                               )\n",
    "        json_response = response.json()\n",
    "\n",
    "        vacancies += json_response[\"items\"]\n",
    "    except Exception as ex:\n",
    "        print(ex)\n",
    "\n",
    "cities = []\n",
    "\n",
    "for vacancy in vacancies:\n",
    "    try:\n",
    "        cities.append(vacancy.get(\"area\").get(\"name\"))\n",
    "    except:\n",
    "        pass\n",
    "\n",
    "\n",
    "city_counter = Counter(cities)\n",
    "city_and_count = list(city_counter.items())"
   ],
   "metadata": {
    "collapsed": false,
    "pycharm": {
     "name": "#%%\n"
    }
   }
  },
  {
   "cell_type": "code",
   "execution_count": 5,
   "outputs": [],
   "source": [
    "def random_cities_generator(city_count_array, n_samples=1):\n",
    "    all_counts_sum = sum([x[1] for x in city_count_array])\n",
    "    city_sampling_borders = []\n",
    "\n",
    "    prefix_sum = 0\n",
    "    for city in city_count_array:\n",
    "        prefix_sum += city[1]\n",
    "        city_sampling_borders.append(prefix_sum / all_counts_sum)\n",
    "\n",
    "    answer_samples = []\n",
    "    for i in range(n_samples):\n",
    "        random_number = random.random()\n",
    "\n",
    "        current_city = city_count_array[0][0]\n",
    "        for i in range(len(city_sampling_borders)):\n",
    "            current_city = city_count_array[i][0]\n",
    "\n",
    "            if random_number < city_sampling_borders[i]:\n",
    "                break\n",
    "\n",
    "        answer_samples.append(current_city)\n",
    "\n",
    "    return answer_samples"
   ],
   "metadata": {
    "collapsed": false,
    "pycharm": {
     "name": "#%%\n"
    }
   }
  },
  {
   "cell_type": "code",
   "execution_count": 6,
   "outputs": [
    {
     "name": "stdout",
     "output_type": "stream",
     "text": [
      "['Москва', 'Москва', 'Минск', 'Москва', 'Санкт-Петербург', 'Москва', 'Москва', 'Санкт-Петербург', 'Москва', 'Москва', 'Минск', 'Москва', 'Кипр', 'Москва', 'Армения', 'Кипр', 'Нижний Новгород', 'Минск', 'Москва', 'Минск', 'Атырау', 'Москва', 'Москва', 'Москва', 'Минск', 'Москва', 'Санкт-Петербург', 'Москва', 'Минск', 'Москва', 'Воронеж', 'Москва', 'Москва', 'Санкт-Петербург', 'Санкт-Петербург', 'Краснодар', 'Москва', 'Санкт-Петербург', 'Нур-Султан', 'Москва', 'Москва', 'Минск', 'Алматы', 'Санкт-Петербург', 'Санкт-Петербург', 'Москва', 'Екатеринбург', 'Киев', 'Санкт-Петербург', 'Москва', 'Москва', 'Казань', 'Киев', 'Нижний Новгород', 'Москва', 'Москва', 'Омск', 'Севастополь', 'Минск', 'Москва', 'Москва', 'Москва', 'Нур-Султан', 'Ростов-на-Дону', 'Санкт-Петербург', 'Санкт-Петербург', 'Москва', 'Санкт-Петербург', 'Москва', 'Москва', 'Москва', 'Москва', 'Одесса', 'Зеленоград', 'Санкт-Петербург', 'Москва', 'Москва', 'Казань', 'Москва', 'Москва', 'Москва', 'Москва', 'Харьков', 'Киев', 'Могилев', 'Санкт-Петербург', 'Москва', 'Новосибирск', 'Краснодар', 'Санкт-Петербург', 'Москва', 'Новосибирск', 'Санкт-Петербург', 'Москва', 'Москва', 'Киев', 'Москва', 'Москва', 'Оренбург', 'Сочи']\n"
     ]
    }
   ],
   "source": [
    "print(random_cities_generator(city_and_count, 100))"
   ],
   "metadata": {
    "collapsed": false,
    "pycharm": {
     "name": "#%%\n"
    }
   }
  },
  {
   "cell_type": "code",
   "execution_count": null,
   "outputs": [],
   "source": [],
   "metadata": {
    "collapsed": false,
    "pycharm": {
     "name": "#%%\n"
    }
   }
  }
 ],
 "metadata": {
  "kernelspec": {
   "display_name": "Python 3",
   "language": "python",
   "name": "python3"
  },
  "language_info": {
   "codemirror_mode": {
    "name": "ipython",
    "version": 2
   },
   "file_extension": ".py",
   "mimetype": "text/x-python",
   "name": "python",
   "nbconvert_exporter": "python",
   "pygments_lexer": "ipython2",
   "version": "2.7.6"
  }
 },
 "nbformat": 4,
 "nbformat_minor": 0
}